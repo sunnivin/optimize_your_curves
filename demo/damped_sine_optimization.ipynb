{
 "cells": [
  {
   "cell_type": "markdown",
   "metadata": {},
   "source": [
    "# Curve Fitting with `lmfit`\n",
    "This notebook demonstrates how to use the `lmfit` library for fitting a the model parameters of a synthetic dataset using different optimization methods. We will generate some noisy data, define a model function, and then fit the data using various methods.\n"
   ]
  },
  {
   "cell_type": "code",
   "execution_count": null,
   "metadata": {},
   "outputs": [],
   "source": [
    "import numpy as np\n",
    "from lmfit import Minimizer, create_params, report_fit\n",
    "import matplotlib.pyplot as plt"
   ]
  },
  {
   "cell_type": "markdown",
   "metadata": {},
   "source": [
    "## Generating Synthetic Data\n",
    "We will create a dataset based on a damped sinusoidal function with added noise on the form \n",
    "\n",
    "$$\n",
    "y= A \\text{sin}(\\omega x + \\phi ) \\text{e}^{-\\gamma x^2 }.\n",
    "$$\n",
    "\n",
    "Setting a random seed ensures the reproducibility of the results.\n"
   ]
  },
  {
   "cell_type": "code",
   "execution_count": null,
   "metadata": {},
   "outputs": [],
   "source": [
    "np.random.seed(2021)  # Set random seed for reproducibility\n",
    "\n",
    "amplitude = 5.0\n",
    "omega = 2.0\n",
    "phi = -0.1\n",
    "gamma = 0.025\n",
    "\n",
    "x = np.linspace(0, 15, 301)\n",
    "data = amplitude * np.sin(omega * x + phi) * np.exp(-x * x * gamma) + np.random.normal(\n",
    "    size=x.size, scale=0.2\n",
    ")\n",
    "\n",
    "plt.figure(figsize=(10, 6))\n",
    "plt.scatter(x, data, label=\"Data\", color=\"red\", alpha=0.6)\n",
    "plt.xlabel(\"x\")\n",
    "plt.ylabel(\"y\")\n",
    "plt.legend()\n",
    "plt.show()"
   ]
  },
  {
   "cell_type": "markdown",
   "metadata": {},
   "source": [
    "## Defining the Model and Residual Function\n",
    "The residual function calculates the difference between the data and the model prediction. This function is used by the optimization algorithm during the fitting process.\n"
   ]
  },
  {
   "cell_type": "code",
   "execution_count": null,
   "metadata": {},
   "outputs": [],
   "source": [
    "def residual(parameters, x, data):\n",
    "    model = (\n",
    "        parameters[\"amplitude\"]\n",
    "        * np.sin(x * parameters[\"omega\"] + parameters[\"phi\"])\n",
    "        * np.exp(-x * x * parameters[\"gamma\"])\n",
    "    )\n",
    "    return model - data"
   ]
  },
  {
   "cell_type": "markdown",
   "metadata": {},
   "source": [
    "## Initial Parameter Setup\n",
    "We need to provide initial guesses for the fitting parameters. These guesses will be changed by the chosen minimization algorithm and hopefully optimized.\n"
   ]
  },
  {
   "cell_type": "code",
   "execution_count": null,
   "metadata": {},
   "outputs": [],
   "source": [
    "parameters_initial = create_params(\n",
    "    amplitude=dict(value=10, min=0),\n",
    "    gamma=0.1,\n",
    "    omega=3.0,\n",
    "    phi=dict(value=0.2, min=-np.pi / 2.0, max=np.pi / 2),\n",
    ")\n",
    "\n",
    "initial_model = (\n",
    "    parameters_initial[\"amplitude\"].value\n",
    "    * np.sin(x * parameters_initial[\"omega\"].value + parameters_initial[\"phi\"].value)\n",
    "    * np.exp(-x * x * parameters_initial[\"gamma\"].value)\n",
    ")\n",
    "\n",
    "plt.figure(figsize=(10, 6))\n",
    "plt.scatter(x, data, label=\"Data\", color=\"red\", alpha=0.6)\n",
    "plt.plot(x, initial_model, label=\"Initial guess\", linestyle=\"--\", color=\"green\")\n",
    "plt.xlabel(\"x\")\n",
    "plt.ylabel(\"y\")\n",
    "plt.legend()\n",
    "plt.show()"
   ]
  },
  {
   "cell_type": "markdown",
   "metadata": {},
   "source": [
    "## Performing the Minimization\n",
    "We will use the `lmfit.Minimizer` to minimize the residuals using the specified method.\n"
   ]
  },
  {
   "cell_type": "code",
   "execution_count": null,
   "metadata": {},
   "outputs": [],
   "source": [
    "method = \"leastsq\"  # You can play with different methods e.g.: \"nelder\"\n",
    "minimizer = Minimizer(residual, parameters_initial, fcn_args=(x, data))\n",
    "result = minimizer.minimize(method=method)\n",
    "\n",
    "final_model = data + result.residual\n",
    "\n",
    "report_fit(result)"
   ]
  },
  {
   "cell_type": "markdown",
   "metadata": {},
   "source": [
    "## Visualizing the Fit Results\n",
    "Now we compare the noisy data, the initial model guess, and the final fitted model.\n"
   ]
  },
  {
   "cell_type": "code",
   "execution_count": null,
   "metadata": {},
   "outputs": [],
   "source": [
    "plt.figure(figsize=(10, 6))\n",
    "plt.scatter(x, data, label=\"Data\", color=\"red\", alpha=0.6)\n",
    "plt.plot(x, initial_model, label=\"Initial guess\", linestyle=\"--\", color=\"green\")\n",
    "plt.plot(x, final_model, label=\"Fit\", color=\"blue\")\n",
    "plt.title(f\"Optimization using {method} method\")\n",
    "plt.xlabel(\"x\")\n",
    "plt.ylabel(\"y\")\n",
    "plt.legend()\n",
    "plt.show()"
   ]
  }
 ],
 "metadata": {
  "kernelspec": {
   "display_name": "Python 3 (ipykernel)",
   "language": "python",
   "name": "python3"
  },
  "language_info": {
   "codemirror_mode": {
    "name": "ipython",
    "version": 3
   },
   "file_extension": ".py",
   "mimetype": "text/x-python",
   "name": "python",
   "nbconvert_exporter": "python",
   "pygments_lexer": "ipython3"
  }
 },
 "nbformat": 4,
 "nbformat_minor": 4
}
